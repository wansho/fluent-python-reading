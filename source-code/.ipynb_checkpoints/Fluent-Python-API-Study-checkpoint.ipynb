{
 "cells": [
  {
   "cell_type": "markdown",
   "metadata": {},
   "source": [
    "# Study in Fluent-Python"
   ]
  },
  {
   "cell_type": "markdown",
   "metadata": {},
   "source": [
    "## Chapter1. The Python Data Model"
   ]
  },
  {
   "cell_type": "markdown",
   "metadata": {},
   "source": [
    "### magic-method-demo"
   ]
  },
  {
   "cell_type": "code",
   "execution_count": 1,
   "metadata": {},
   "outputs": [],
   "source": [
    "import math\n",
    "\n",
    "class Vector():\n",
    "\n",
    "    def __init__(self, x, y):\n",
    "        self.x = x\n",
    "        self.y = y\n",
    "\n",
    "    def __add__(self, other):\n",
    "        return Vector(self.x + other.x, self.y + other.y)\n",
    "\n",
    "    def __bool__(self):\n",
    "        return bool(abs(self))\n",
    "\n",
    "    def __abs__(self):\n",
    "        return math.hypot(self.x, self.y)\n",
    "\n",
    "    def __mul__(self, other):\n",
    "        return Vector(self.x * other, self.y * other)\n",
    "\n",
    "    def __repr__(self):\n",
    "        return \"vector(\" + str(vector.x) + \", \" + str(vector.y) + \")\"\n",
    "\n",
    "    def __str__(self):\n",
    "        \"\"\"\n",
    "        __str__ 定义后，print(object) 会被 Python 解释器解释成 print(str(object))\n",
    "        如果没有定义 __str__，那么 print(object) 和 str(object) 会被解释成 __repr__(object)\n",
    "        如果连 __repr__ 也没有定义，那么就会打印一个对象 0x 值\n",
    "        通常情况下，只需要定义 __repr__ 即可\n",
    "        :return:\n",
    "        \"\"\"\n",
    "        return \"hehe\""
   ]
  },
  {
   "cell_type": "code",
   "execution_count": 2,
   "metadata": {},
   "outputs": [
    {
     "name": "stdout",
     "output_type": "stream",
     "text": [
      "5.0\n",
      "hehe\n",
      "hehe\n",
      "True\n"
     ]
    }
   ],
   "source": [
    "vector = Vector(3, 4)\n",
    "print(abs(vector))\n",
    "print(str(vector))\n",
    "print(vector)\n",
    "print(bool(vector))"
   ]
  },
  {
   "cell_type": "markdown",
   "metadata": {},
   "source": [
    "### ord()"
   ]
  },
  {
   "cell_type": "code",
   "execution_count": null,
   "metadata": {},
   "outputs": [],
   "source": [
    "# https://docs.python.org/3/library/functions.html?highlight=ord#ord\n",
    "# \n",
    "ord(\"a\")\n",
    "ord('€')"
   ]
  }
 ],
 "metadata": {
  "kernelspec": {
   "display_name": "Python 3",
   "language": "python",
   "name": "python3"
  },
  "language_info": {
   "codemirror_mode": {
    "name": "ipython",
    "version": 3
   },
   "file_extension": ".py",
   "mimetype": "text/x-python",
   "name": "python",
   "nbconvert_exporter": "python",
   "pygments_lexer": "ipython3",
   "version": "3.7.1"
  }
 },
 "nbformat": 4,
 "nbformat_minor": 2
}
