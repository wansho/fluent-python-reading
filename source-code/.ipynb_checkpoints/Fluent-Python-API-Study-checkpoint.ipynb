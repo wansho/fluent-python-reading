{
 "cells": [
  {
   "cell_type": "markdown",
   "metadata": {},
   "source": [
    "# Study in Fluent-Python"
   ]
  },
  {
   "cell_type": "markdown",
   "metadata": {},
   "source": [
    "## Chapter1. The Python Data Model"
   ]
  },
  {
   "cell_type": "markdown",
   "metadata": {},
   "source": [
    "### magic-method-demo"
   ]
  },
  {
   "cell_type": "code",
   "execution_count": 1,
   "metadata": {},
   "outputs": [],
   "source": [
    "import math\n",
    "\n",
    "class Vector():\n",
    "\n",
    "    def __init__(self, x, y):\n",
    "        self.x = x\n",
    "        self.y = y\n",
    "\n",
    "    def __add__(self, other):\n",
    "        return Vector(self.x + other.x, self.y + other.y)\n",
    "\n",
    "    def __bool__(self):\n",
    "        return bool(abs(self))\n",
    "\n",
    "    def __abs__(self):\n",
    "        return math.hypot(self.x, self.y)\n",
    "\n",
    "    def __mul__(self, other):\n",
    "        return Vector(self.x * other, self.y * other)\n",
    "\n",
    "    def __repr__(self):\n",
    "        return \"vector(\" + str(vector.x) + \", \" + str(vector.y) + \")\"\n",
    "\n",
    "    def __str__(self):\n",
    "        \"\"\"\n",
    "        __str__ 定义后，print(object) 会被 Python 解释器解释成 print(str(object))\n",
    "        如果没有定义 __str__，那么 print(object) 和 str(object) 会被解释成 __repr__(object)\n",
    "        如果连 __repr__ 也没有定义，那么就会打印一个对象 0x 值\n",
    "        通常情况下，只需要定义 __repr__ 即可\n",
    "        :return:\n",
    "        \"\"\"\n",
    "        return \"hehe\""
   ]
  },
  {
   "cell_type": "code",
   "execution_count": 2,
   "metadata": {},
   "outputs": [
    {
     "name": "stdout",
     "output_type": "stream",
     "text": [
      "5.0\n",
      "hehe\n",
      "hehe\n",
      "True\n"
     ]
    }
   ],
   "source": [
    "vector = Vector(3, 4)\n",
    "print(abs(vector))\n",
    "print(str(vector))\n",
    "print(vector)\n",
    "print(bool(vector))"
   ]
  },
  {
   "cell_type": "markdown",
   "metadata": {},
   "source": [
    "### ord() 方法"
   ]
  },
  {
   "cell_type": "code",
   "execution_count": 4,
   "metadata": {},
   "outputs": [
    {
     "name": "stdout",
     "output_type": "stream",
     "text": [
      "97\n",
      "8364\n"
     ]
    }
   ],
   "source": [
    "# https://docs.python.org/3/library/functions.html?highlight=ord#ord\n",
    "# return an integer representing the Unicode code point of that character\n",
    "print(ord(\"a\"))\n",
    "print(ord('€'))"
   ]
  },
  {
   "cell_type": "markdown",
   "metadata": {},
   "source": [
    "## Chapter2. An Array of Sequences"
   ]
  },
  {
   "cell_type": "markdown",
   "metadata": {},
   "source": [
    "### divmod() 方法"
   ]
  },
  {
   "cell_type": "code",
   "execution_count": 1,
   "metadata": {},
   "outputs": [
    {
     "data": {
      "text/plain": [
       "(2, 4)"
      ]
     },
     "execution_count": 1,
     "metadata": {},
     "output_type": "execute_result"
    }
   ],
   "source": [
    "divmod(20, 8)\n",
    "# divmod 方法获取整除 和 余数\n",
    "t = (20, 8)\n"
   ]
  },
  {
   "cell_type": "code",
   "execution_count": 2,
   "metadata": {},
   "outputs": [
    {
     "data": {
      "text/plain": [
       "(2.0, 5.199999999999999)"
      ]
     },
     "execution_count": 2,
     "metadata": {},
     "output_type": "execute_result"
    }
   ],
   "source": [
    "divmod(21.2, 8)"
   ]
  },
  {
   "cell_type": "markdown",
   "metadata": {},
   "source": [
    "### a^n"
   ]
  },
  {
   "cell_type": "code",
   "execution_count": 1,
   "metadata": {},
   "outputs": [
    {
     "name": "stdout",
     "output_type": "stream",
     "text": [
      "100\n",
      "1024\n"
     ]
    }
   ],
   "source": [
    "# n 次方\n",
    "print(10 ** 2)\n",
    "print(2 ** 10)"
   ]
  },
  {
   "cell_type": "markdown",
   "metadata": {},
   "source": [
    "## Sequence 获取最后一个元素"
   ]
  },
  {
   "cell_type": "code",
   "execution_count": 2,
   "metadata": {},
   "outputs": [
    {
     "name": "stdout",
     "output_type": "stream",
     "text": [
      "4\n"
     ]
    }
   ],
   "source": [
    "list1 = [1,2,3,4]\n",
    "print(list1[-1])"
   ]
  },
  {
   "cell_type": "markdown",
   "metadata": {},
   "source": [
    "## array.array Demo"
   ]
  },
  {
   "cell_type": "code",
   "execution_count": 6,
   "metadata": {},
   "outputs": [
    {
     "name": "stdout",
     "output_type": "stream",
     "text": [
      "the last number: 0.44683995097268137\n",
      "0.44683995097268137\n",
      "1547450710960\n",
      "1547450138288\n",
      "True\n"
     ]
    }
   ],
   "source": [
    "from array import array\n",
    "from random import random\n",
    "\n",
    "# 用生成表达式生成一个双精度的 float 类型 array, 其中包含有 1000 万个元素\n",
    "# array 接受两个参数，第一个参数是存储的数据类型，第二个参数是存储的数据\n",
    "# array 目前接受的存储类型为：\n",
    "# I: integer 整形\n",
    "# u: unicode 类型\n",
    "# d: double 类型\n",
    "floats = array(\"d\", (random() for i in range(10**7))) \n",
    "print(\"the last number: \" + str(floats[-1]))\n",
    "fw = open(\"array.bin\", \"wb\")\n",
    "floats.tofile(fw) # 讲数据写入二进制文件中\n",
    "fw.close()\n",
    "\n",
    "# 构建一个空的 array，然后从二进制文件中读取数据\n",
    "floats2 = array(\"d\") \n",
    "fr = open(\"array.bin\", \"rb\")\n",
    "floats2.fromfile(fr, 10**7) # 读取的时候，指定读取多少个数据\n",
    "fr.close()\n",
    "print(\"the last number: \" + str(floats2[-1]))\n",
    "\n",
    "print(id(floats))\n",
    "print(id(floats2))\n",
    "print(floats == floats2)"
   ]
  },
  {
   "cell_type": "code",
   "execution_count": null,
   "metadata": {},
   "outputs": [],
   "source": []
  }
 ],
 "metadata": {
  "kernelspec": {
   "display_name": "Python 3",
   "language": "python",
   "name": "python3"
  },
  "language_info": {
   "codemirror_mode": {
    "name": "ipython",
    "version": 3
   },
   "file_extension": ".py",
   "mimetype": "text/x-python",
   "name": "python",
   "nbconvert_exporter": "python",
   "pygments_lexer": "ipython3",
   "version": "3.7.1"
  }
 },
 "nbformat": 4,
 "nbformat_minor": 2
}
